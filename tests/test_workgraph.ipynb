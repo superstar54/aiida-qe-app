{
 "cells": [
  {
   "cell_type": "markdown",
   "metadata": {},
   "source": [
    "## Test workgrah\n",
    "\n",
    "## Visualizing the WorkGraph"
   ]
  },
  {
   "cell_type": "code",
   "execution_count": 5,
   "metadata": {},
   "outputs": [],
   "source": [
    "from aiida_qe_app.workflows.qeapp_workgraph import qeapp_workgraph\n",
    "from aiida import load_profile, orm\n",
    "from ase.build import bulk\n",
    "\n",
    "load_profile()\n",
    "\n",
    "si = bulk(\"Si\")\n",
    "structure = orm.StructureData(ase=si)\n",
    "pw_code = orm.load_code(\"qe-7.2-pw@localhost\")\n",
    "projwfc_bands_code = orm.load_code(\"qe-7.2-projwfc@localhost\")\n",
    "projwfc_code = orm.load_code(\"qe-7.2-projwfc@localhost\")\n",
    "dos_code = orm.load_code(\"qe-7.2-dos@localhost\")\n",
    "\n",
    "scf_paras = {\n",
    "    'SYSTEM': {\n",
    "        'ecutwfc': 30,\n",
    "        'ecutrho': 240,\n",
    "        'smearing': 'gaussian',\n",
    "        'degauss': 0.1,\n",
    "    },\n",
    "}\n",
    "kpoints = orm.KpointsData()\n",
    "kpoints.set_kpoints_mesh([3, 3, 3])\n",
    "metadata = {\n",
    "    'options': {\n",
    "        'resources': {\n",
    "            'num_machines': 1,\n",
    "            'num_mpiprocs_per_machine': 4,\n",
    "        },\n",
    "    }\n",
    "}\n",
    "#\n",
    "parameters = {\n",
    "    \"workchain\": {\"protocol\": \"fast\",\n",
    "                  \"relax_type\": \"positions\",\n",
    "                  \"electronic_type\": \"metal\",\n",
    "                  \"spin_type\": \"none\",\n",
    "                #   \"properties\": [\"relax\", \"bands\", \"pdos\"],\n",
    "                  \"properties\": [\"relax\"]\n",
    "    },\n",
    "    \"advanced\": {\n",
    "        \"pw\": {\n",
    "            \"parameters\": scf_paras,\n",
    "            \"pseudos\": {},\n",
    "        },\n",
    "        \"initial_magnetic_moments\": None,\n",
    "    },\n",
    "    \"bands\": {\"projwfc_bands\": False},\n",
    "    \"pdos\": {\"use_pdos_degauss\": False,\n",
    "             \"nscf_kpoints_distance\": 0.5},\n",
    "    \"codes\": {\n",
    "        \"pw\": {\"code\": pw_code.uuid, \"nodes\": 1, \"ntasks_per_node\": 1, \"cpus_per_task\": 1, \"max_wallclock_seconds\": 1800},\n",
    "        \"projwfc_bands\": {\"code\": projwfc_bands_code.uuid, \"nodes\": 1, \"ntasks_per_node\": 1, \"cpus_per_task\": 1, \"max_wallclock_seconds\": 1800},\n",
    "        \"projwfc\": {\"code\": projwfc_code.uuid, \"nodes\": 1, \"ntasks_per_node\": 1, \"cpus_per_task\": 1, \"max_wallclock_seconds\": 1800},\n",
    "        \"dos\": {\"code\": dos_code.uuid, \"nodes\": 1, \"ntasks_per_node\": 1, \"cpus_per_task\": 1, \"max_wallclock_seconds\": 1800},\n",
    "    }\n",
    "}\n",
    "\n",
    "wg = qeapp_workgraph(structure=structure,\n",
    "                     parameters=parameters)"
   ]
  },
  {
   "cell_type": "code",
   "execution_count": 6,
   "metadata": {},
   "outputs": [
    {
     "name": "stderr",
     "output_type": "stream",
     "text": [
      "11/01/2024 11:00:34 AM <115294> aiida.orm.nodes.process.workflow.workchain.WorkChainNode: [REPORT] [13110|WorkGraphEngine|continue_workgraph]: Continue workgraph.\n",
      "11/01/2024 11:00:34 AM <115294> aiida.orm.nodes.process.workflow.workchain.WorkChainNode: [REPORT] [13110|WorkGraphEngine|continue_workgraph]: tasks ready to run: relax\n",
      "11/01/2024 11:00:34 AM <115294> aiida.orm.nodes.process.workflow.workchain.WorkChainNode: [REPORT] [13110|WorkGraphEngine|run_tasks]: Run task: relax, type: WORKCHAIN\n"
     ]
    },
    {
     "name": "stdout",
     "output_type": "stream",
     "text": [
      "------------------------------------------------------------\n"
     ]
    },
    {
     "name": "stderr",
     "output_type": "stream",
     "text": [
      "11/01/2024 11:00:34 AM <115294> aiida.orm.nodes.process.workflow.workchain.WorkChainNode: [REPORT] [13110|WorkGraphEngine|on_wait]: Process status: Waiting for child processes: 13112\n",
      "11/01/2024 11:00:35 AM <115294> aiida.orm.nodes.process.workflow.workchain.WorkChainNode: [REPORT] [13112|PwRelaxWorkChain|setup]: No change in volume possible for the provided base input parameters. Meta convergence is turned off.\n",
      "11/01/2024 11:00:35 AM <115294> aiida.orm.nodes.process.workflow.workchain.WorkChainNode: [REPORT] [13112|PwRelaxWorkChain|run_relax]: launching PwBaseWorkChain<13115>\n",
      "11/01/2024 11:00:36 AM <115294> aiida.orm.nodes.process.workflow.workchain.WorkChainNode: [REPORT] [13115|PwBaseWorkChain|run_process]: launching PwCalculation<13120> iteration #1\n",
      "11/01/2024 11:00:42 AM <115294> aiida.orm.nodes.process.workflow.workchain.WorkChainNode: [REPORT] [13115|PwBaseWorkChain|results]: work chain completed after 1 iterations\n",
      "11/01/2024 11:00:42 AM <115294> aiida.orm.nodes.process.workflow.workchain.WorkChainNode: [REPORT] [13115|PwBaseWorkChain|on_terminated]: remote folders will not be cleaned\n",
      "11/01/2024 11:00:42 AM <115294> aiida.orm.nodes.process.workflow.workchain.WorkChainNode: [REPORT] [13112|PwRelaxWorkChain|inspect_relax]: after iteration 1 cell volume of relaxed structure is 40.02575122514962\n",
      "11/01/2024 11:00:42 AM <115294> aiida.orm.nodes.process.workflow.workchain.WorkChainNode: [REPORT] [13112|PwRelaxWorkChain|results]: workchain completed after 1 iterations\n",
      "11/01/2024 11:00:42 AM <115294> aiida.orm.nodes.process.workflow.workchain.WorkChainNode: [REPORT] [13112|PwRelaxWorkChain|on_terminated]: remote folders will not be cleaned\n",
      "11/01/2024 11:00:43 AM <115294> aiida.orm.nodes.process.workflow.workchain.WorkChainNode: [REPORT] [13110|WorkGraphEngine|continue_workgraph]: Continue workgraph.\n",
      "11/01/2024 11:00:43 AM <115294> aiida.orm.nodes.process.workflow.workchain.WorkChainNode: [REPORT] [13110|WorkGraphEngine|continue_workgraph]: tasks ready to run: inspect_relax\n",
      "11/01/2024 11:00:43 AM <115294> aiida.orm.nodes.process.workflow.workchain.WorkChainNode: [REPORT] [13110|WorkGraphEngine|run_tasks]: Run task: inspect_relax, type: Normal\n",
      "11/01/2024 11:00:43 AM <115294> aiida.orm.nodes.process.workflow.workchain.WorkChainNode: [REPORT] [13110|WorkGraphEngine|update_normal_task_state]: Task: inspect_relax finished.\n",
      "11/01/2024 11:00:43 AM <115294> aiida.orm.nodes.process.workflow.workchain.WorkChainNode: [REPORT] [13110|WorkGraphEngine|continue_workgraph]: Continue workgraph.\n",
      "11/01/2024 11:00:43 AM <115294> aiida.orm.nodes.process.workflow.workchain.WorkChainNode: [REPORT] [13110|WorkGraphEngine|continue_workgraph]: tasks ready to run: \n",
      "11/01/2024 11:00:43 AM <115294> aiida.orm.nodes.process.workflow.workchain.WorkChainNode: [REPORT] [13110|WorkGraphEngine|finalize]: Finalize workgraph.\n"
     ]
    },
    {
     "name": "stdout",
     "output_type": "stream",
     "text": [
      "------------------------------------------------------------\n"
     ]
    },
    {
     "data": {
      "text/plain": [
       "{'execution_count': <Int: uuid: e7602f95-75ca-4964-bf47-d5f1532a8d7b (pk: 13127) value: 1>}"
      ]
     },
     "execution_count": 6,
     "metadata": {},
     "output_type": "execute_result"
    }
   ],
   "source": [
    "wg.run()"
   ]
  },
  {
   "cell_type": "code",
   "execution_count": null,
   "metadata": {},
   "outputs": [],
   "source": [
    "from copy import deepcopy\n",
    "from aiida import load_profile\n",
    "from aiida.orm import Dict, KpointsData, StructureData, load_code\n",
    "from ase.build import bulk\n",
    "from workgraph_collections.qe.bands import bands_workgraph\n",
    "\n",
    "load_profile()\n",
    "\n",
    "atoms = bulk('Si')\n",
    "structure_si = StructureData(ase=atoms)\n",
    "\n",
    "pw_code = load_code('qe-7.2-pw@localhost')\n",
    "scf_paras = {\n",
    "    'CONTROL': {\n",
    "        'calculation': 'scf',\n",
    "    },\n",
    "    'SYSTEM': {\n",
    "        'ecutwfc': 30,\n",
    "        'ecutrho': 240,\n",
    "        'occupations': 'smearing',\n",
    "        'smearing': 'gaussian',\n",
    "        'degauss': 0.1,\n",
    "    },\n",
    "}\n",
    "relax_paras = deepcopy(scf_paras)\n",
    "relax_paras['CONTROL']['calculation'] = 'vc-relax'\n",
    "bands_paras = deepcopy(scf_paras)\n",
    "bands_paras['CONTROL']['calculation'] = 'bands'\n",
    "\n",
    "kpoints = KpointsData()\n",
    "kpoints.set_kpoints_mesh([3, 3, 3])\n",
    "#\n",
    "metadata = {\n",
    "    'options': {\n",
    "        'resources': {\n",
    "            'num_machines': 1,\n",
    "            'num_mpiprocs_per_machine': 4,\n",
    "        },\n",
    "    }\n",
    "}\n",
    "\n",
    "bands_inputs = {\n",
    "    'relax': {\n",
    "        'base': {\n",
    "            'pw': {\n",
    "                'parameters': Dict(relax_paras),\n",
    "                'metadata': metadata,\n",
    "            },\n",
    "            'kpoints': kpoints,\n",
    "        },\n",
    "    },\n",
    "    'scf': {\n",
    "        'pw': {\n",
    "            'parameters': Dict(scf_paras),\n",
    "            'metadata': metadata,\n",
    "        },\n",
    "        'kpoints': kpoints,\n",
    "    },\n",
    "    'bands': {\n",
    "        'pw': {\n",
    "            'parameters': Dict(bands_paras),\n",
    "            'metadata': metadata,\n",
    "        },\n",
    "        'kpoints': kpoints,\n",
    "    },\n",
    "}\n",
    "\n",
    "wg = bands_workgraph(\n",
    "    structure=structure_si,\n",
    "    code=pw_code,\n",
    "    inputs=bands_inputs,\n",
    "    pseudo_family='SSSP/1.3/PBEsol/efficiency',\n",
    "    run_relax=True,\n",
    "    bands_kpoints_distance=0.1,\n",
    ")\n",
    "#------------------------- Submit the calculation -------------------\n",
    "wg.submit(wait=True, timeout=300)\n"
   ]
  }
 ],
 "metadata": {
  "kernelspec": {
   "display_name": "aiida",
   "language": "python",
   "name": "python3"
  },
  "language_info": {
   "codemirror_mode": {
    "name": "ipython",
    "version": 3
   },
   "file_extension": ".py",
   "mimetype": "text/x-python",
   "name": "python",
   "nbconvert_exporter": "python",
   "pygments_lexer": "ipython3",
   "version": "3.11.0"
  }
 },
 "nbformat": 4,
 "nbformat_minor": 2
}
